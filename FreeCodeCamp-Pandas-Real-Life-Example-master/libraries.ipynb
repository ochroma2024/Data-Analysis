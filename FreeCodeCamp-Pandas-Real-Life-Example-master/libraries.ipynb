{
 "cells": [
  {
   "cell_type": "code",
   "execution_count": null,
   "metadata": {},
   "outputs": [],
   "source": [
    "1. Pandas\n",
    "**主要用途**：数据操作和分析\n",
    "**功能**：\n",
    "- 数据清洗和准备\n",
    "- 数据框（DataFrame）和序列（Series）数据结构\n",
    "- 数据过滤、分组、聚合和合并\n",
    "- 时间序列分析"
   ]
  },
  {
   "cell_type": "code",
   "execution_count": null,
   "metadata": {},
   "outputs": [],
   "source": [
    "import pandas as pd\n",
    "\n",
    "# 创建数据框\n",
    "df = pd.DataFrame({\n",
    "    'Name': ['Alice', 'Bob', 'Charlie'],\n",
    "    'Age': [25, 30, 35],\n",
    "    'City': ['New York', 'San Francisco', 'Los Angeles']\n",
    "})\n",
    "\n",
    "# 过滤年龄大于30的人\n",
    "filtered_df = df[df['Age'] > 30]"
   ]
  },
  {
   "cell_type": "markdown",
   "metadata": {},
   "source": [
    "NumPy\n",
    "**主要用途**：数值计算\n",
    "**功能**：\n",
    "- 支持多维数组和矩阵操作\n",
    "- 提供数学函数库，如线性代数、傅里叶变换、随机数生成\n"
   ]
  },
  {
   "cell_type": "code",
   "execution_count": null,
   "metadata": {},
   "outputs": [],
   "source": [
    "# 创建一个数组\n",
    "arr = np.array([1, 2, 3, 4, 5])\n",
    "\n",
    "# 计算数组的平均值\n",
    "mean = np.mean(arr)"
   ]
  },
  {
   "cell_type": "markdown",
   "metadata": {},
   "source": [
    "3. Matplotlib\n",
    "**主要用途**：数据可视化\n",
    "**功能**：\n",
    "- 创建静态、交互式和动画的2D图表\n",
    "- 支持多种图表类型，如折线图、柱状图、散点图、直方图"
   ]
  },
  {
   "cell_type": "code",
   "execution_count": null,
   "metadata": {},
   "outputs": [],
   "source": [
    "import matplotlib.pyplot as plt\n",
    "\n",
    "# 创建数据\n",
    "x = [1, 2, 3, 4, 5]\n",
    "y = [2, 3, 5, 7, 11]\n",
    "\n",
    "# 创建折线图\n",
    "plt.plot(x, y)\n",
    "plt.xlabel('X-axis')\n",
    "plt.ylabel('Y-axis')\n",
    "plt.title('Line Chart')\n",
    "plt.show()"
   ]
  },
  {
   "cell_type": "markdown",
   "metadata": {},
   "source": [
    "4. Seaborn\n",
    "**主要用途**：统计数据可视化\n",
    "**功能**：\n",
    "- 基于Matplotlib，提供更高级别的接口\n",
    "- 支持绘制复杂的统计图表，如分类图、回归图、矩阵图"
   ]
  },
  {
   "cell_type": "code",
   "execution_count": null,
   "metadata": {},
   "outputs": [],
   "source": [
    "import seaborn as sns\n",
    "import pandas as pd\n",
    "\n",
    "# 创建数据\n",
    "df = pd.DataFrame({\n",
    "    'total_bill': [10, 20, 30, 40, 50],\n",
    "    'tip': [1, 2, 3, 4, 5],\n",
    "    'sex': ['Male', 'Female', 'Male', 'Female', 'Male']\n",
    "})\n",
    "\n",
    "# 绘制散点图\n",
    "sns.scatterplot(x='total_bill', y='tip', hue='sex', data=df)"
   ]
  },
  {
   "cell_type": "markdown",
   "metadata": {},
   "source": [
    "5. SciPy\n",
    "**主要用途**：科学计算\n",
    "**功能**：\n",
    "- 数学函数（如优化、积分、插值、线性代数、统计、傅里叶变换）\n",
    "- 提供信号处理和图像处理功能\n"
   ]
  },
  {
   "cell_type": "code",
   "execution_count": null,
   "metadata": {},
   "outputs": [],
   "source": [
    "from scipy import optimize\n",
    "\n",
    "# 定义一个函数\n",
    "def f(x):\n",
    "    return x**2 + 5*np.sin(x)\n",
    "\n",
    "# 寻找函数的最小值\n",
    "result = optimize.minimize(f, x0=0)"
   ]
  },
  {
   "cell_type": "markdown",
   "metadata": {},
   "source": [
    "6. Scikit-Learn\n",
    "**主要用途**：机器学习\n",
    "**功能**：\n",
    "- 提供简单高效的工具进行数据挖掘和数据分析\n",
    "- 支持监督学习和无监督学习算法\n",
    "- 数据预处理和模型评估工具\n"
   ]
  },
  {
   "cell_type": "code",
   "execution_count": null,
   "metadata": {},
   "outputs": [],
   "source": [
    "from sklearn import datasets\n",
    "from sklearn.model_selection import train_test_split\n",
    "from sklearn.linear_model import LogisticRegression\n",
    "\n",
    "# 加载数据集\n",
    "iris = datasets.load_iris()\n",
    "X, y = iris.data, iris.target\n",
    "\n",
    "# 拆分数据集\n",
    "X_train, X_test, y_train, y_test = train_test_split(X, y, test_size=0.2)\n",
    "\n",
    "# 训练模型\n",
    "model = LogisticRegression()\n",
    "model.fit(X_train, y_train)\n",
    "\n",
    "# 评估模型\n",
    "score = model.score(X_test, y_test)"
   ]
  },
  {
   "cell_type": "markdown",
   "metadata": {},
   "source": [
    "Statsmodels\n",
    "**主要用途**：统计建模和计量经济学\n",
    "**功能**：\n",
    "- 估计统计模型\n",
    "- 进行统计测试\n",
    "- 探索数据集"
   ]
  },
  {
   "cell_type": "code",
   "execution_count": null,
   "metadata": {},
   "outputs": [],
   "source": [
    "import statsmodels.api as sm\n",
    "\n",
    "# 创建数据\n",
    "X = sm.add_constant([1, 2, 3, 4, 5])\n",
    "y = [1, 3, 3, 2, 5]\n",
    "\n",
    "# 线性回归模型\n",
    "model = sm.OLS(y, X).fit()\n",
    "predictions = model.predict(X)\n",
    "print(model.summary())"
   ]
  },
  {
   "cell_type": "markdown",
   "metadata": {},
   "source": [
    "Plotly\n",
    "**主要用途**：交互式数据可视化\n",
    "**功能**：\n",
    "- 创建交互式图表和仪表盘\n",
    "- 支持多种图表类型和动画效果\n"
   ]
  },
  {
   "cell_type": "code",
   "execution_count": null,
   "metadata": {},
   "outputs": [],
   "source": [
    "import plotly.express as px\n",
    "\n",
    "# 创建数据\n",
    "df = px.data.iris()\n",
    "\n",
    "# 绘制散点图\n",
    "fig = px.scatter(df, x='sepal_width', y='sepal_length', color='species')\n",
    "fig.show()"
   ]
  },
  {
   "cell_type": "markdown",
   "metadata": {},
   "source": [
    " Jupyter Notebook\n",
    "**主要用途**：交互式编程环境\n",
    "**功能**：\n",
    "- 结合代码、文本、公式和可视化的文档\n",
    "- 便于数据分析和分享"
   ]
  }
 ],
 "metadata": {
  "language_info": {
   "name": "python"
  }
 },
 "nbformat": 4,
 "nbformat_minor": 2
}
